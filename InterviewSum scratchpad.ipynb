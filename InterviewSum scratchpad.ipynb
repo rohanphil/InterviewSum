{
 "cells": [
  {
   "cell_type": "code",
   "execution_count": 1,
   "id": "3a3e13fd",
   "metadata": {},
   "outputs": [],
   "source": [
    "import whisper"
   ]
  },
  {
   "cell_type": "code",
   "execution_count": 3,
   "id": "80ebafdf",
   "metadata": {},
   "outputs": [],
   "source": [
    "model = whisper.load_model(\"base\")"
   ]
  },
  {
   "cell_type": "code",
   "execution_count": 4,
   "id": "917dc631",
   "metadata": {},
   "outputs": [
    {
     "data": {
      "text/plain": [
       "['.ipynb_checkpoints', 'InterviewSum scratchpad.ipynb', 'Sample.mp3']"
      ]
     },
     "execution_count": 4,
     "metadata": {},
     "output_type": "execute_result"
    }
   ],
   "source": [
    "import os\n",
    "os.listdir()"
   ]
  },
  {
   "cell_type": "code",
   "execution_count": 5,
   "id": "7ba811a8",
   "metadata": {},
   "outputs": [
    {
     "name": "stderr",
     "output_type": "stream",
     "text": [
      "C:\\Users\\rgpma\\anaconda3\\envs\\IvSum\\lib\\site-packages\\whisper\\transcribe.py:114: UserWarning: FP16 is not supported on CPU; using FP32 instead\n",
      "  warnings.warn(\"FP16 is not supported on CPU; using FP32 instead\")\n"
     ]
    }
   ],
   "source": [
    "result = model.transcribe('Sample.mp3')"
   ]
  },
  {
   "cell_type": "code",
   "execution_count": 6,
   "id": "c5539fd2",
   "metadata": {},
   "outputs": [
    {
     "data": {
      "text/plain": [
       "' Hello, my name is Rohan. I am 24 years old and I live in New Jersey.'"
      ]
     },
     "execution_count": 6,
     "metadata": {},
     "output_type": "execute_result"
    }
   ],
   "source": [
    "result[\"text\"]"
   ]
  },
  {
   "cell_type": "code",
   "execution_count": 7,
   "id": "ecba8556",
   "metadata": {},
   "outputs": [],
   "source": [
    "# yaaay. That works."
   ]
  },
  {
   "cell_type": "code",
   "execution_count": 9,
   "id": "0791e857",
   "metadata": {},
   "outputs": [],
   "source": [
    "#Now I just have to make this very robust."
   ]
  },
  {
   "cell_type": "code",
   "execution_count": null,
   "id": "043a5a1d",
   "metadata": {},
   "outputs": [],
   "source": []
  }
 ],
 "metadata": {
  "kernelspec": {
   "display_name": "Python 3 (ipykernel)",
   "language": "python",
   "name": "python3"
  },
  "language_info": {
   "codemirror_mode": {
    "name": "ipython",
    "version": 3
   },
   "file_extension": ".py",
   "mimetype": "text/x-python",
   "name": "python",
   "nbconvert_exporter": "python",
   "pygments_lexer": "ipython3",
   "version": "3.9.16"
  }
 },
 "nbformat": 4,
 "nbformat_minor": 5
}
